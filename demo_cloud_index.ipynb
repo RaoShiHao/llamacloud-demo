{
 "cells": [
  {
   "cell_type": "markdown",
   "id": "8c1348d3-4c0e-450f-8faf-19503f61b7b2",
   "metadata": {},
   "source": [
    "# LlamaCloud Demo"
   ]
  },
  {
   "cell_type": "markdown",
   "id": "57082f55-66e0-44e1-8072-2450405c21d1",
   "metadata": {},
   "source": [
    "## Step 0: Setup environment config for LlamaCloud"
   ]
  },
  {
   "cell_type": "code",
   "execution_count": 1,
   "id": "e83a35ec-8e6c-475c-827c-20f46c4a3c43",
   "metadata": {},
   "outputs": [],
   "source": [
    "import nest_asyncio\n",
    "nest_asyncio.apply()"
   ]
  },
  {
   "cell_type": "code",
   "execution_count": 2,
   "id": "013c59e6-34b2-4685-b8c3-10b9e9afc3a8",
   "metadata": {},
   "outputs": [],
   "source": [
    "import os\n",
    "\n",
    "os.environ[\"LLAMA_CLOUD_API_KEY\"] = \"llx-4vP5daAZP2z4F6L3ai0NEhKOL8XQIcnwTKKOziStSwQJUTyB\""
   ]
  },
  {
   "cell_type": "markdown",
   "id": "9472b5e3-c203-410d-82a3-b19c7c0ed61b",
   "metadata": {},
   "source": [
    "## Step 1: Parse pdf with LlamaParse"
   ]
  },
  {
   "cell_type": "code",
   "execution_count": 3,
   "id": "4f713c84-2774-45c8-b030-a572273724db",
   "metadata": {},
   "outputs": [],
   "source": [
    "from llama_parse import LlamaParse\n",
    "from llama_index.readers import SimpleDirectoryReader\n",
    "from llama_index.node_parser import SentenceSplitter\n",
    "from llama_index.embeddings import OpenAIEmbedding"
   ]
  },
  {
   "cell_type": "code",
   "execution_count": 4,
   "id": "e83d26e5-05ea-4bac-a06c-987e06993f1a",
   "metadata": {},
   "outputs": [],
   "source": [
    "parser = LlamaParse(\n",
    "    result_type=\"markdown\",  # \"markdown\" and \"text\" are available\n",
    "    verbose=True\n",
    ")"
   ]
  },
  {
   "cell_type": "code",
   "execution_count": 5,
   "id": "6414cbff-8b05-4599-bce6-5ce764600a40",
   "metadata": {},
   "outputs": [
    {
     "name": "stdout",
     "output_type": "stream",
     "text": [
      "Started parsing the file under job_id 203e921f-ef66-4017-8e28-65bc55295996\n"
     ]
    }
   ],
   "source": [
    "file_extractor = {\".pdf\": parser}\n",
    "reader = SimpleDirectoryReader(\n",
    "    input_files=['data_sec/source_files/uber_2021.pdf'], \n",
    "    file_extractor=file_extractor\n",
    ")\n",
    "docs = reader.load_data()\n",
    "# TODO: bypass usage limit when testing"
   ]
  },
  {
   "cell_type": "code",
   "execution_count": 6,
   "id": "19c60709-bcd6-44db-ae45-6acb68122a0a",
   "metadata": {},
   "outputs": [],
   "source": [
    "reader = SimpleDirectoryReader(input_files=['data_sec/source_files/uber_2021.pdf'])\n",
    "docs = reader.load_data()"
   ]
  },
  {
   "cell_type": "markdown",
   "id": "c25b8955-b6f7-43c2-8ba4-33a07fca0e2c",
   "metadata": {},
   "source": [
    "## Step 2: Build cloud index"
   ]
  },
  {
   "cell_type": "code",
   "execution_count": 8,
   "id": "ba1896de-c850-44d2-8e79-cb75a04d669c",
   "metadata": {},
   "outputs": [],
   "source": [
    "from llama_index.indices import LlamaCloudIndex"
   ]
  },
  {
   "cell_type": "code",
   "execution_count": 9,
   "id": "5d879e25-3ffc-4b90-9858-f9f3f6c83851",
   "metadata": {},
   "outputs": [
    {
     "name": "stdout",
     "output_type": "stream",
     "text": [
      "Find your index at None/project/82137f10-5033-48f4-9a01-7ffcda87cd81/deploy/9b8516d0-efe3-4d3f-a089-5625c8a6f614\n"
     ]
    }
   ],
   "source": [
    "index = LlamaCloudIndex.from_documents(\n",
    "    name='Uber 2021',\n",
    "    documents=docs,\n",
    ")"
   ]
  },
  {
   "cell_type": "markdown",
   "id": "8375bb94-3386-4a21-9f6e-a31c7ff55e5b",
   "metadata": {},
   "source": [
    "## Step 3: Use your retrieval endpoint "
   ]
  },
  {
   "cell_type": "markdown",
   "id": "a7b5cb21-8f98-490d-9468-cb30e12c3d83",
   "metadata": {},
   "source": [
    "If you have a reference to the index: "
   ]
  },
  {
   "cell_type": "code",
   "execution_count": 10,
   "id": "df510141-13be-4285-9fab-1906c56dc71c",
   "metadata": {},
   "outputs": [],
   "source": [
    "retriever = index.as_retriever(rerank_top_n=3)"
   ]
  },
  {
   "cell_type": "code",
   "execution_count": 50,
   "id": "63457127-5a86-4b78-81e9-848a07c37362",
   "metadata": {},
   "outputs": [
    {
     "name": "stdout",
     "output_type": "stream",
     "text": [
      "CPU times: user 17.1 ms, sys: 3.28 ms, total: 20.4 ms\n",
      "Wall time: 1.4 s\n"
     ]
    }
   ],
   "source": [
    "%%time\n",
    "nodes = retriever.retrieve('How are you?')"
   ]
  },
  {
   "cell_type": "code",
   "execution_count": 51,
   "id": "8c3de876-fad7-41e4-b965-fb93b3909fd1",
   "metadata": {},
   "outputs": [
    {
     "name": "stdout",
     "output_type": "stream",
     "text": [
      "Node ID: 637dbe2e-cb8b-43d1-a1d4-095d0e7d0f4e\n",
      "Text: The test is referred to as the“ABC”  test, and was originally\n",
      "handed down by the California Supreme Court in Dynamex Operations v.\n",
      "Superior Court in 2018. Under the ABC test, workersperforming\n",
      "services  for  a  hiring  entity  are  considered  employees  unless\n",
      "the  hiring  entity  can  demonstrate  three  things:  the  worker\n",
      "(A)  is  free  ...\n",
      "Score:  0.898\n",
      "\n",
      "Node ID: 464638f4-f61f-4481-afac-d3480f656e06\n",
      "Text: In  March 2020, the World Health Organization declared the\n",
      "outbreak of COVID-19 a pandemic. Since then, in an attempt to limit\n",
      "the spread of the virus,various  governments  around  the  world  have\n",
      "implemented,  lifted,  and  in  some  regions  reinstated  travel\n",
      "restrictions,  business  restrictions,  school  closures,limitations\n",
      "on social o ...\n",
      "Score:  0.865\n",
      "\n",
      "Node ID: dbbf8b21-5885-4b67-bc26-d6d9bacd62e3\n",
      "Text: Any agreement or instrumentpursuant to which a Lender sells such\n",
      "a participation shall provide that such Lender shall retain the sole\n",
      "right to enforce this Agreement and to approve any amendment,\n",
      "modification or waiver of any provision of this Agreement;  provided\n",
      "that such agreement or instrument may provide that such Lender will\n",
      "not, without 121\n",
      "Score:  0.787\n",
      "\n"
     ]
    }
   ],
   "source": [
    "for node in nodes:\n",
    "    print(node)"
   ]
  },
  {
   "cell_type": "markdown",
   "id": "9ba5001d-fcdf-4888-8940-0e7db5372df4",
   "metadata": {},
   "source": [
    "Alternatively, you can directly create a retriever:"
   ]
  },
  {
   "cell_type": "code",
   "execution_count": 14,
   "id": "4e4c651b-a1d0-40b0-91ce-a7a96fd701fa",
   "metadata": {},
   "outputs": [],
   "source": [
    "from llama_index.retrievers import LlamaCloudRetriever"
   ]
  },
  {
   "cell_type": "code",
   "execution_count": 20,
   "id": "2796361d-90cd-423c-9726-f638a7aefbbc",
   "metadata": {},
   "outputs": [],
   "source": [
    "retriever = LlamaCloudRetriever(\n",
    "    name='Uber 2021',\n",
    ")"
   ]
  },
  {
   "cell_type": "code",
   "execution_count": 47,
   "id": "828c11dd-8b40-4262-a4c3-f0345b81a522",
   "metadata": {},
   "outputs": [
    {
     "name": "stdout",
     "output_type": "stream",
     "text": [
      "CPU times: user 17.2 ms, sys: 3.71 ms, total: 20.9 ms\n",
      "Wall time: 2.62 s\n"
     ]
    }
   ],
   "source": [
    "%%time\n",
    "nodes = retriever.retrieve('Who are you?')"
   ]
  },
  {
   "cell_type": "code",
   "execution_count": 49,
   "id": "58688348-fa6f-4daf-8d95-20604c6f5a54",
   "metadata": {},
   "outputs": [
    {
     "name": "stdout",
     "output_type": "stream",
     "text": [
      "Node ID: a56926c8-831a-4ce4-97ca-6e757376f4ac\n",
      "Text: The ultimate resolution of the social security matters for the\n",
      "other two entities is uncertain and the amount accrued for thismatter\n",
      "is recorded within accr ued and other current liabilities on the\n",
      "consolidated balance sheets.Aslam, Farrar, Hoy and Mithu v. Uber B.V.,\n",
      "Uber Britannia Ltd. and Uber London Ltd. On  October 28, 2015, a claim\n",
      "by 25 D...\n",
      "Score:  0.916\n",
      "\n",
      "Node ID: 999c2019-9f60-4ef5-9f48-ed57acc2f922\n",
      "Text: For example, Apple Inc. requires that iOS apps obtain users’\n",
      "permission to track their activities acrossthird-party  apps and\n",
      "websites. If iOS users do not grant us such permission, our ability to\n",
      "target those users for advertisements and to measure the effectiveness\n",
      "ofsuch  advertisements may be adversely affected, which could decrease\n",
      "the effe...\n",
      "Score:  0.902\n",
      "\n",
      "Node ID: 637dbe2e-cb8b-43d1-a1d4-095d0e7d0f4e\n",
      "Text: The test is referred to as the“ABC”  test, and was originally\n",
      "handed down by the California Supreme Court in Dynamex Operations v.\n",
      "Superior Court in 2018. Under the ABC test, workersperforming\n",
      "services  for  a  hiring  entity  are  considered  employees  unless\n",
      "the  hiring  entity  can  demonstrate  three  things:  the  worker\n",
      "(A)  is  free  ...\n",
      "Score:  0.883\n",
      "\n"
     ]
    }
   ],
   "source": [
    "for node in nodes:\n",
    "    print(node)"
   ]
  }
 ],
 "metadata": {
  "kernelspec": {
   "display_name": "Python 3 (ipykernel)",
   "language": "python",
   "name": "python3"
  },
  "language_info": {
   "codemirror_mode": {
    "name": "ipython",
    "version": 3
   },
   "file_extension": ".py",
   "mimetype": "text/x-python",
   "name": "python",
   "nbconvert_exporter": "python",
   "pygments_lexer": "ipython3",
   "version": "3.11.3"
  }
 },
 "nbformat": 4,
 "nbformat_minor": 5
}
