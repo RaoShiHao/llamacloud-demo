{
 "cells": [
  {
   "cell_type": "markdown",
   "id": "ced5edf1-4d1d-4e81-ba1e-58b26ac6ca8c",
   "metadata": {},
   "source": [
    "# LlamaIndex Platform Demo"
   ]
  },
  {
   "cell_type": "markdown",
   "id": "b450616c-ec1b-48ad-a5be-0e98a1123831",
   "metadata": {},
   "source": [
    "## Step 0: Setup environment config for platform"
   ]
  },
  {
   "cell_type": "code",
   "execution_count": 1,
   "id": "da7a0c2e-54d2-4e8c-9edc-c1c457fc24f9",
   "metadata": {},
   "outputs": [],
   "source": [
    "import os\n",
    "\n",
    "os.environ[\"PLATFORM_BASE_URL\"] = \"https://d8cz3jaef0wc2.cloudfront.net/\"\n",
    "os.environ[\"PLATFORM_APP_URL\"] = \"https://lpro-git-staging-llama-index.vercel.app/\"\n",
    "os.environ[\"PLATFORM_API_KEY\"] = \"llx-gQW14ec1giEhlBNx6ndcEjEIOsBsVIoQoklF3uc9Fer48DN2\""
   ]
  },
  {
   "cell_type": "markdown",
   "id": "a89b27f6-d9ab-43f9-8c0d-56b68b89f5d5",
   "metadata": {},
   "source": [
    "## Step 1: Configure ingestion pipeline (data source, transformations)"
   ]
  },
  {
   "cell_type": "code",
   "execution_count": 2,
   "id": "654f252d-d68d-4a91-8a40-5bffce8c61ab",
   "metadata": {},
   "outputs": [],
   "source": [
    "from llama_index.ingestion import IngestionPipeline\n",
    "from llama_index.readers import SimpleDirectoryReader\n",
    "from llama_index.node_parser import SentenceSplitter\n",
    "from llama_index.embeddings import OpenAIEmbedding"
   ]
  },
  {
   "cell_type": "code",
   "execution_count": 3,
   "id": "aef2e044-3188-4e46-9a3a-7105a223d07e",
   "metadata": {},
   "outputs": [],
   "source": [
    "reader = SimpleDirectoryReader(input_files=['data/nvda_10q_truncated.pdf', 'data/tsla_10k_truncated.pdf'])\n",
    "docs = reader.load_data()"
   ]
  },
  {
   "cell_type": "code",
   "execution_count": 12,
   "id": "8165a372-329b-46d4-9b27-9b146f19ff09",
   "metadata": {},
   "outputs": [],
   "source": [
    "sec_pipeline = IngestionPipeline(\n",
    "    name='sec pdfs',\n",
    "    documents=docs,\n",
    "    transformations=[\n",
    "        SentenceSplitter(),\n",
    "        OpenAIEmbedding(),\n",
    "    ]\n",
    ")"
   ]
  },
  {
   "cell_type": "code",
   "execution_count": 13,
   "id": "4a974962-6874-4edd-b1c1-386bf86d5f5c",
   "metadata": {},
   "outputs": [
    {
     "name": "stdout",
     "output_type": "stream",
     "text": [
      "Pipeline available at: https://lpro-git-staging-llama-index.vercel.app//project/196b4c10-936b-4079-a338-c5ab3a22fd81/playground/b047edd6-520f-4203-a469-ed69d0c7958f\n"
     ]
    }
   ],
   "source": [
    "sec_pipeline_id = sec_pipeline.register()"
   ]
  },
  {
   "cell_type": "code",
   "execution_count": null,
   "id": "d30e465d-bb09-4995-89bf-66c21a184108",
   "metadata": {},
   "outputs": [],
   "source": []
  }
 ],
 "metadata": {
  "kernelspec": {
   "display_name": "Python 3 (ipykernel)",
   "language": "python",
   "name": "python3"
  },
  "language_info": {
   "codemirror_mode": {
    "name": "ipython",
    "version": 3
   },
   "file_extension": ".py",
   "mimetype": "text/x-python",
   "name": "python",
   "nbconvert_exporter": "python",
   "pygments_lexer": "ipython3",
   "version": "3.11.5"
  }
 },
 "nbformat": 4,
 "nbformat_minor": 5
}
