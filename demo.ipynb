{
 "cells": [
  {
   "cell_type": "markdown",
   "id": "3881c7b4-7bcc-48a7-aaa0-01f8ce63b16e",
   "metadata": {},
   "source": [
    "# LlamaIndex Platform Demo"
   ]
  },
  {
   "cell_type": "markdown",
   "id": "de23a434-bd51-4be3-b4a6-3b5c84284406",
   "metadata": {},
   "source": [
    "## Step 0: Setup environment config for platform"
   ]
  },
  {
   "cell_type": "code",
   "execution_count": 59,
   "id": "b9ac844f-f623-4564-b9b9-53ecf5751f5d",
   "metadata": {},
   "outputs": [],
   "source": [
    "import os\n",
    "\n",
    "os.environ[\"PLATFORM_BASE_URL\"] = \"https://d8cz3jaef0wc2.cloudfront.net/\"\n",
    "os.environ[\"PLATFORM_APP_URL\"] = \"https://lpro-git-staging-llama-index.vercel.app/\"\n",
    "os.environ[\"PLATFORM_API_KEY\"] = \"llx-gQW14ec1giEhlBNx6ndcEjEIOsBsVIoQoklF3uc9Fer48DN2\""
   ]
  },
  {
   "cell_type": "markdown",
   "id": "5db501ac-28d0-4b6b-9565-048867e61ec4",
   "metadata": {},
   "source": [
    "## Step 1: Configure ingestion pipeline (data source, transformations)"
   ]
  },
  {
   "cell_type": "code",
   "execution_count": 60,
   "id": "da098c00-be39-49fc-b1fa-515cc9daad2f",
   "metadata": {},
   "outputs": [],
   "source": [
    "from llama_index.ingestion import IngestionPipeline\n",
    "from llama_index.readers import SimpleDirectoryReader\n",
    "from llama_index.node_parser import SentenceSplitter\n",
    "from llama_index.embeddings import OpenAIEmbedding"
   ]
  },
  {
   "cell_type": "code",
   "execution_count": 129,
   "id": "ed608c95-a2b2-49b8-b852-2ff87e41bc79",
   "metadata": {},
   "outputs": [],
   "source": [
    "reader = SimpleDirectoryReader(input_files=['data/paul_graham_essay.txt'])\n",
    "docs = reader.load_data()"
   ]
  },
  {
   "cell_type": "code",
   "execution_count": 68,
   "id": "d9438a8a-3b43-4cf9-a4af-bbea09a71584",
   "metadata": {},
   "outputs": [],
   "source": [
    "pg_pipeline = IngestionPipeline(\n",
    "    name='pg essay',\n",
    "    documents=docs,\n",
    "    transformations=[\n",
    "        SentenceSplitter(),\n",
    "        OpenAIEmbedding(),\n",
    "    ]\n",
    ")"
   ]
  },
  {
   "cell_type": "markdown",
   "id": "88768650-9142-49e9-9858-418a14e1327c",
   "metadata": {},
   "source": [
    "## Running ingestion locally"
   ]
  },
  {
   "cell_type": "markdown",
   "id": "60a16fe5-ab62-41a1-bbd4-a9a99a572193",
   "metadata": {},
   "source": [
    "Let's try running this locally first."
   ]
  },
  {
   "cell_type": "code",
   "execution_count": 90,
   "id": "1b60f0b8-3724-4c3d-9722-4793fe3948fd",
   "metadata": {},
   "outputs": [],
   "source": [
    "nodes = pg_pipeline.run()"
   ]
  },
  {
   "cell_type": "markdown",
   "id": "a415a15e-f141-4d58-a980-65460fdbc0b4",
   "metadata": {},
   "source": [
    "This runs quickly, since data volume is small.  \n",
    "We can inspect the processed nodes, but limited by the notebook interface."
   ]
  },
  {
   "cell_type": "code",
   "execution_count": 70,
   "id": "96fca25d-357a-45b7-bb6a-7f90dde2dbef",
   "metadata": {},
   "outputs": [
    {
     "name": "stdout",
     "output_type": "stream",
     "text": [
      "Ingested 21 nodes\n"
     ]
    }
   ],
   "source": [
    "print(f'Ingested {len(nodes)} nodes')"
   ]
  },
  {
   "cell_type": "code",
   "execution_count": 71,
   "id": "7c3d57c9-e15f-45a6-bcb3-3acd1e8fd4d1",
   "metadata": {},
   "outputs": [
    {
     "name": "stdout",
     "output_type": "stream",
     "text": [
      "Node ID: 6fc26e62-e99a-41d9-b224-d1b8ba20a1a4\n",
      "Text: What I Worked On  February 2021  Before college the two main\n",
      "things I worked on, outside of school, were writing and programming. I\n",
      "didn't write essays. I wrote what beginning writers were supposed to\n",
      "write then, and probably still are: short stories. My stories were\n",
      "awful. They had hardly any plot, just characters with strong feelings,\n",
      "which I ...\n"
     ]
    }
   ],
   "source": [
    "print(nodes[0])"
   ]
  },
  {
   "cell_type": "code",
   "execution_count": 72,
   "id": "8cff5dd5-3fa9-4933-9872-fa39c0dace47",
   "metadata": {},
   "outputs": [
    {
     "name": "stdout",
     "output_type": "stream",
     "text": [
      "Doc ID: f1e2b4af-a6e2-4572-9ea0-01c74fd420c6\n",
      "Text: What I Worked On  February 2021  Before college the two main\n",
      "things I worked on, outside of school, were writing and programming. I\n",
      "didn't write essays. I wrote what beginning writers were supposed to\n",
      "write then, and probably still are: short stories. My stories were\n",
      "awful. They had hardly any plot, just characters with strong feelings,\n",
      "which I ...\n"
     ]
    }
   ],
   "source": [
    "print(docs[0])"
   ]
  },
  {
   "cell_type": "markdown",
   "id": "672221a0-bc12-46bf-8ce3-d427289f7b3c",
   "metadata": {},
   "source": [
    "### Key challenges for AI engineer\n",
    "- hard to visualize intermediate data\n",
    "- hard to tune parameters and understand impact on downstream performance"
   ]
  },
  {
   "cell_type": "markdown",
   "id": "b71130b0-5671-4001-a6a9-b56545d77054",
   "metadata": {},
   "source": [
    "## Platform Playground"
   ]
  },
  {
   "cell_type": "markdown",
   "id": "eac4742e-7272-4c8a-b6ef-80daac3e7de4",
   "metadata": {},
   "source": [
    "We can register the pipeline to Platform Playground, where we can easily experiment with different parameter configurations and evaluate downstream performance."
   ]
  },
  {
   "cell_type": "code",
   "execution_count": 143,
   "id": "a0414ece-cd3b-499a-8055-1e3ef0e9dbf2",
   "metadata": {},
   "outputs": [
    {
     "name": "stdout",
     "output_type": "stream",
     "text": [
      "Pipeline available at: https://lpro-git-staging-llama-index.vercel.app//project/196b4c10-936b-4079-a338-c5ab3a22fd81/playground/c879beaf-58fa-472a-b648-a02c63c9ddda\n"
     ]
    }
   ],
   "source": [
    "pg_pipeline_id = pg_pipeline.register()"
   ]
  },
  {
   "cell_type": "markdown",
   "id": "c8d653a9-d111-4be3-a01e-618c2a9c5111",
   "metadata": {},
   "source": [
    "After we tune our pipeline with the desired evals, we can download the config back to local development."
   ]
  },
  {
   "cell_type": "code",
   "execution_count": 150,
   "id": "f8b0635d-8694-4467-bcc9-ec75f4bd3594",
   "metadata": {},
   "outputs": [],
   "source": [
    "new_pg_pipeline = IngestionPipeline.from_pipeline_name('pg essay')"
   ]
  },
  {
   "cell_type": "code",
   "execution_count": 149,
   "id": "c5f283dc-3aff-4144-9273-11896b2e0d3c",
   "metadata": {},
   "outputs": [],
   "source": [
    "# new_pg_pipeline.run(documents=docs)\n",
    "\n",
    "# current broken due to 2 issues\n",
    "# 1. get back a pipeline with an empty doc attached\n",
    "# 2. our OpenAI embedding retries and breaks on empty doc"
   ]
  }
 ],
 "metadata": {
  "kernelspec": {
   "display_name": "Python 3 (ipykernel)",
   "language": "python",
   "name": "python3"
  },
  "language_info": {
   "codemirror_mode": {
    "name": "ipython",
    "version": 3
   },
   "file_extension": ".py",
   "mimetype": "text/x-python",
   "name": "python",
   "nbconvert_exporter": "python",
   "pygments_lexer": "ipython3",
   "version": "3.11.5"
  }
 },
 "nbformat": 4,
 "nbformat_minor": 5
}
