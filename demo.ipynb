{
 "cells": [
  {
   "cell_type": "markdown",
   "id": "3881c7b4-7bcc-48a7-aaa0-01f8ce63b16e",
   "metadata": {},
   "source": [
    "# LlamaIndex Platform Demo"
   ]
  },
  {
   "cell_type": "markdown",
   "id": "de23a434-bd51-4be3-b4a6-3b5c84284406",
   "metadata": {},
   "source": [
    "## Step 0: Setup environment config for platform"
   ]
  },
  {
   "cell_type": "code",
   "execution_count": 54,
   "id": "b9ac844f-f623-4564-b9b9-53ecf5751f5d",
   "metadata": {},
   "outputs": [],
   "source": [
    "import os\n",
    "\n",
    "os.environ[\"PLATFORM_BASE_URL\"] = \"https://d8cz3jaef0wc2.cloudfront.net/\"\n",
    "os.environ[\"PLATFORM_APP_URL\"] = \"https://lpro-git-staging-llama-index.vercel.app/\"\n",
    "os.environ[\"PLATFORM_API_KEY\"] = \"llx-gQW14ec1giEhlBNx6ndcEjEIOsBsVIoQoklF3uc9Fer48DN2\""
   ]
  },
  {
   "cell_type": "markdown",
   "id": "5db501ac-28d0-4b6b-9565-048867e61ec4",
   "metadata": {},
   "source": [
    "## Step 1: Configure ingestion pipeline (data source, transformations)"
   ]
  },
  {
   "cell_type": "code",
   "execution_count": 2,
   "id": "da098c00-be39-49fc-b1fa-515cc9daad2f",
   "metadata": {},
   "outputs": [],
   "source": [
    "from llama_index.ingestion import IngestionPipeline\n",
    "from llama_index.readers import SimpleDirectoryReader\n",
    "from llama_index.node_parser import SentenceSplitter\n",
    "from llama_index.embeddings import OpenAIEmbedding"
   ]
  },
  {
   "cell_type": "code",
   "execution_count": 57,
   "id": "ed608c95-a2b2-49b8-b852-2ff87e41bc79",
   "metadata": {},
   "outputs": [],
   "source": [
    "reader = SimpleDirectoryReader(input_files=['data_pg/source_files/source.txt'])\n",
    "docs = reader.load_data()"
   ]
  },
  {
   "cell_type": "code",
   "execution_count": 58,
   "id": "d9438a8a-3b43-4cf9-a4af-bbea09a71584",
   "metadata": {},
   "outputs": [],
   "source": [
    "pg_pipeline = IngestionPipeline(\n",
    "    project_name='paul graham', \n",
    "    name='essay',\n",
    "    documents=docs,\n",
    "    transformations=[\n",
    "        SentenceSplitter(),\n",
    "        OpenAIEmbedding(),\n",
    "    ]\n",
    ")"
   ]
  },
  {
   "cell_type": "markdown",
   "id": "88768650-9142-49e9-9858-418a14e1327c",
   "metadata": {},
   "source": [
    "## Running ingestion locally"
   ]
  },
  {
   "cell_type": "markdown",
   "id": "60a16fe5-ab62-41a1-bbd4-a9a99a572193",
   "metadata": {},
   "source": [
    "Let's try running this locally first."
   ]
  },
  {
   "cell_type": "code",
   "execution_count": 6,
   "id": "1b60f0b8-3724-4c3d-9722-4793fe3948fd",
   "metadata": {},
   "outputs": [],
   "source": [
    "nodes = pg_pipeline.run()"
   ]
  },
  {
   "cell_type": "markdown",
   "id": "a415a15e-f141-4d58-a980-65460fdbc0b4",
   "metadata": {},
   "source": [
    "This runs quickly, since data volume is small.  \n",
    "We can inspect the processed nodes, but limited by the notebook interface."
   ]
  },
  {
   "cell_type": "code",
   "execution_count": 7,
   "id": "96fca25d-357a-45b7-bb6a-7f90dde2dbef",
   "metadata": {},
   "outputs": [
    {
     "name": "stdout",
     "output_type": "stream",
     "text": [
      "Ingested 21 nodes\n"
     ]
    }
   ],
   "source": [
    "print(f'Ingested {len(nodes)} nodes')"
   ]
  },
  {
   "cell_type": "code",
   "execution_count": 8,
   "id": "7c3d57c9-e15f-45a6-bcb3-3acd1e8fd4d1",
   "metadata": {},
   "outputs": [
    {
     "name": "stdout",
     "output_type": "stream",
     "text": [
      "Node ID: 833554a6-fd3a-46f1-be81-2ea8487efdfc\n",
      "Text: What I Worked On  February 2021  Before college the two main\n",
      "things I worked on, outside of school, were writing and programming. I\n",
      "didn't write essays. I wrote what beginning writers were supposed to\n",
      "write then, and probably still are: short stories. My stories were\n",
      "awful. They had hardly any plot, just characters with strong feelings,\n",
      "which I ...\n"
     ]
    }
   ],
   "source": [
    "print(nodes[0])"
   ]
  },
  {
   "cell_type": "code",
   "execution_count": 9,
   "id": "8cff5dd5-3fa9-4933-9872-fa39c0dace47",
   "metadata": {},
   "outputs": [
    {
     "name": "stdout",
     "output_type": "stream",
     "text": [
      "Doc ID: 6ff33c25-d385-483d-a2b5-8484790a0320\n",
      "Text: What I Worked On  February 2021  Before college the two main\n",
      "things I worked on, outside of school, were writing and programming. I\n",
      "didn't write essays. I wrote what beginning writers were supposed to\n",
      "write then, and probably still are: short stories. My stories were\n",
      "awful. They had hardly any plot, just characters with strong feelings,\n",
      "which I ...\n"
     ]
    }
   ],
   "source": [
    "print(docs[0])"
   ]
  },
  {
   "cell_type": "markdown",
   "id": "672221a0-bc12-46bf-8ce3-d427289f7b3c",
   "metadata": {},
   "source": [
    "### Key challenges for AI engineer\n",
    "- hard to visualize intermediate data\n",
    "- hard to tune parameters and understand impact on downstream performance"
   ]
  },
  {
   "cell_type": "markdown",
   "id": "b71130b0-5671-4001-a6a9-b56545d77054",
   "metadata": {},
   "source": [
    "## Platform Playground"
   ]
  },
  {
   "cell_type": "markdown",
   "id": "fbc13ce4-1906-4fd7-a95e-55c25f0f905e",
   "metadata": {},
   "source": [
    "### Register pipeline"
   ]
  },
  {
   "cell_type": "markdown",
   "id": "eac4742e-7272-4c8a-b6ef-80daac3e7de4",
   "metadata": {},
   "source": [
    "We can register the pipeline to Platform Playground, where we can easily experiment with different parameter configurations and evaluate downstream performance."
   ]
  },
  {
   "cell_type": "code",
   "execution_count": 53,
   "id": "a0414ece-cd3b-499a-8055-1e3ef0e9dbf2",
   "metadata": {},
   "outputs": [
    {
     "name": "stdout",
     "output_type": "stream",
     "text": [
      "Pipeline available at: https://lpro-git-staging-llama-index.vercel.app//project/7a2f40f6-8836-4d17-a59c-13a5c6a18260/playground/2b7120bb-f820-4c59-a7bb-019e86630e46\n"
     ]
    }
   ],
   "source": [
    "pg_pipeline_id = pg_pipeline.register()"
   ]
  },
  {
   "cell_type": "markdown",
   "id": "f9dab0a7-48cb-4739-aa36-91567b0cc33c",
   "metadata": {},
   "source": [
    "### Pull eval dataset from Llama Hub"
   ]
  },
  {
   "cell_type": "code",
   "execution_count": 14,
   "id": "7264a346-817e-44c1-b7af-16c13dbc098d",
   "metadata": {},
   "outputs": [],
   "source": [
    "from llama_index.llama_dataset import download_llama_dataset\n",
    "from llama_index.evaluation.eval_utils import upload_eval_dataset"
   ]
  },
  {
   "cell_type": "code",
   "execution_count": 41,
   "id": "8facbeb4-8136-4f64-a57f-56f8525c80ae",
   "metadata": {},
   "outputs": [],
   "source": [
    "# download_llama_dataset('PaulGrahamEssayDataset', download_dir='eval')\n",
    "# TODO: this is currently broken, used the latest framework to download and moved here."
   ]
  },
  {
   "cell_type": "code",
   "execution_count": 40,
   "id": "bb39d9df-2d37-48ce-9355-46f24a96949e",
   "metadata": {},
   "outputs": [],
   "source": [
    "from llama_index.llama_dataset import LabelledRagDataset\n",
    "rag_dataset = LabelledRagDataset.from_json(\"./data_pg/rag_dataset.json\")\n",
    "questions = [example.query for example in rag_dataset.examples[:5]]"
   ]
  },
  {
   "cell_type": "code",
   "execution_count": 42,
   "id": "a9b78a8b-b811-4918-b2c4-92b8baa12707",
   "metadata": {},
   "outputs": [
    {
     "name": "stdout",
     "output_type": "stream",
     "text": [
      "1. In the essay, the author mentions his early experiences with programming. Describe the first computer he used for programming, the language he used, and the challenges he faced.\n",
      "2. The author switched his major from philosophy to AI during his college years. What were the two specific influences that led him to develop an interest in AI? Provide a brief description of each.\n",
      "3. In the essay, the author discusses his initial interest in AI and his eventual disillusionment with it. According to the author, what were the two main influences that initially drew him to AI and what realization led him to believe that the approach to AI during his time was a hoax?\n",
      "4. The author mentions his shift of interest towards Lisp, a programming language. What reasons does he provide for this shift and how did he further his understanding of Lisp?\n",
      "5. In the essay, the author mentions his interest in both computer science and art. Discuss how he attempts to reconcile these two interests during his time in grad school. Provide specific examples from the text.\n"
     ]
    }
   ],
   "source": [
    "for ind, question in enumerate(questions):\n",
    "    print(f\"{ind + 1}. {question}\")"
   ]
  },
  {
   "cell_type": "markdown",
   "id": "0c45079d-2047-4a72-8d37-42bc3b648eb8",
   "metadata": {},
   "source": [
    "### Upload eval dataset"
   ]
  },
  {
   "cell_type": "markdown",
   "id": "5c58ef7f-fe2a-4d99-adad-3beb2cb36fbf",
   "metadata": {},
   "source": [
    "Let's upload a list of evaluation questions we have curated to help us iterate on the ingestion pipeline."
   ]
  },
  {
   "cell_type": "code",
   "execution_count": 47,
   "id": "faa16749-79fc-48bc-a4e4-540e8de9d333",
   "metadata": {},
   "outputs": [
    {
     "name": "stdout",
     "output_type": "stream",
     "text": [
      "Uploaded 5 questions to dataset AI generated - 5 questions\n"
     ]
    },
    {
     "data": {
      "text/plain": [
       "'a3b6e0ed-ee5d-46af-a38b-745d8e8ddc26'"
      ]
     },
     "execution_count": 47,
     "metadata": {},
     "output_type": "execute_result"
    }
   ],
   "source": [
    "upload_eval_dataset(\n",
    "    project_name='paul graham',\n",
    "    dataset_name='AI generated - 5 questions',\n",
    "    questions=questions,\n",
    "    overwrite=True,\n",
    ")"
   ]
  },
  {
   "cell_type": "markdown",
   "id": "5d2bc3df-3394-4bc9-801a-ede3959543a4",
   "metadata": {},
   "source": [
    "### Download pipeline"
   ]
  },
  {
   "attachments": {},
   "cell_type": "markdown",
   "id": "d32aca15-7607-4ade-8eab-67cec4c0294f",
   "metadata": {},
   "source": [
    "After we tune our pipeline with the desired evals, we can download the config back to local development."
   ]
  },
  {
   "cell_type": "code",
   "execution_count": 50,
   "id": "f8b0635d-8694-4467-bcc9-ec75f4bd3594",
   "metadata": {},
   "outputs": [],
   "source": [
    "new_pg_pipeline = IngestionPipeline.from_pipeline_name('pg essay')"
   ]
  },
  {
   "cell_type": "code",
   "execution_count": 49,
   "id": "c5f283dc-3aff-4144-9273-11896b2e0d3c",
   "metadata": {},
   "outputs": [],
   "source": [
    "# new_pg_pipeline.run(documents=docs)\n",
    "\n",
    "# TODO: current broken due to 2 issues\n",
    "# 1. get back a pipeline with an empty doc attached\n",
    "# 2. our OpenAI embedding retries and breaks on empty doc"
   ]
  }
 ],
 "metadata": {
  "kernelspec": {
   "display_name": "Python 3 (ipykernel)",
   "language": "python",
   "name": "python3"
  },
  "language_info": {
   "codemirror_mode": {
    "name": "ipython",
    "version": 3
   },
   "file_extension": ".py",
   "mimetype": "text/x-python",
   "name": "python",
   "nbconvert_exporter": "python",
   "pygments_lexer": "ipython3",
   "version": "3.11.5"
  }
 },
 "nbformat": 4,
 "nbformat_minor": 5
}
